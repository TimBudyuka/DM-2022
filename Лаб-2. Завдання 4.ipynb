{
 "cells": [
  {
   "cell_type": "markdown",
   "metadata": {},
   "source": [
    "#  Лабораторна робота №2\n",
    "### практичне завдання 3 \n",
    "### Файлові операції в Python\n",
    "***"
   ]
  },
  {
   "cell_type": "markdown",
   "metadata": {},
   "source": [
    "[__Файлом__](https://www.google.com/url?sa=t&rct=j&q=&esrc=s&source=web&cd=&cad=rja&uact=8&ved=2ahUKEwi27JCGsdLsAhUqpIsKHXr7DUEQFjABegQIBxAC&url=https%3A%2F%2Fru.wikipedia.org%2Fwiki%2F%25D0%25A4%25D0%25B0%25D0%25B9%25D0%25BB&usg=AOvVaw0fNfsmGUYbdOzQf_LNWorC) називається будь-яка послідовність даних, яка знаходиться на зовнішньому носії та має унікальне ім'я.\n",
    "\n",
    "В ієрархічних файлових системах __ім'я__ файлу - це повний шлях до нього від кореня ієрархії. Шлях до файлу часто ассоціюють з його __адресою__.\n",
    "\n",
    "Windows: \n",
    "\n",
    "<pre>\n",
    "C:\\\n",
    "  |- Program Files\n",
    "  |      |- Python\n",
    "  |      |- Anaconda\n",
    "  |      | ...\n",
    "  |- Users\n",
    "  |   |- John\n",
    "  |   |   |- lab.py\n",
    "  |   |   |- file.txt\n",
    "  |   |   | ...\n",
    "  |   |- Bob\n",
    "  |...\n",
    "</pre>\n",
    "   \n",
    "Ім'я файлу - ```c:\\Users\\John\\file.txt```\n",
    "\n",
    "__Шлях__ до файла може бути\n",
    "- [абсолютним](https://ru.wikipedia.org/wiki/Путь_к_файлу)\n",
    "- [відносним](https://ru.wikipedia.org/wiki/Путь_к_файлу)\n",
    "\n"
   ]
  },
  {
   "cell_type": "markdown",
   "metadata": {},
   "source": [
    "### Операції з файлами"
   ]
  },
  {
   "cell_type": "markdown",
   "metadata": {},
   "source": [
    "<p style=\"background-color:lightgreen; padding:10px\">\n",
    "    Щоб здійснювати операції з файлом його треба <b>відкрити</b>, тобто створити <b>об'єкт-посилання</b> на цей файл<br>Після завершення роботи з файлом його треба <b>закрити</b>   \n",
    "</p>\n",
    "\n",
    "```handler = open(<шлях до файла>,[<режим доступу>])\n",
    "...\n",
    "handler.close()\n",
    "```\n",
    "\n",
    "[Опис режимів доступу к файлу](https://pythonworld.ru/tipy-dannyx-v-python/fajly-rabota-s-fajlami.html)"
   ]
  },
  {
   "cell_type": "code",
   "execution_count": 1,
   "metadata": {},
   "outputs": [],
   "source": [
    "h = open(\".\\some_file.txt\", 'w')"
   ]
  },
  {
   "cell_type": "code",
   "execution_count": 2,
   "metadata": {},
   "outputs": [],
   "source": [
    "# після завершення роботи файл ТРЕБА закривати\n",
    "h.close()"
   ]
  },
  {
   "cell_type": "markdown",
   "metadata": {},
   "source": [
    "#### запис в файл"
   ]
  },
  {
   "cell_type": "code",
   "execution_count": 3,
   "metadata": {},
   "outputs": [],
   "source": [
    "# записати в файл строку `write`\n",
    "h = open(\"./some_file.txt\", 'w+', encoding='utf-8')\n",
    "h.write(\"1-а строка\")\n",
    "h.close()"
   ]
  },
  {
   "cell_type": "code",
   "execution_count": 4,
   "metadata": {},
   "outputs": [],
   "source": [
    "# ЗАВДАННЯ 1\n",
    "# використовуючи цикл 'for' записати в файл 'my_file.txt` 10 рядків:\n",
    "#   1-й рядок\n",
    "#   2-й рядок\n",
    "#   ...\n",
    "\n",
    "f = open(\"./my_file.txt\", \"w+\", encoding='utf-8')\n",
    "for i in range(10):\n",
    "    f.write(f\"{i+1}-я строка\\n\")\n",
    "f.close()"
   ]
  },
  {
   "cell_type": "code",
   "execution_count": 5,
   "metadata": {},
   "outputs": [],
   "source": [
    "# запис в файл з списка строк\n",
    "some_list = [\n",
    "    \"строка 1\",\n",
    "    \"строка 2\",\n",
    "    \"строка 3\"\n",
    "]\n",
    "\n",
    "h = open(\"./some_file.txt\", 'w+', encoding='utf-8')\n",
    "h.writelines(some_list)\n",
    "h.close()"
   ]
  },
  {
   "cell_type": "markdown",
   "metadata": {},
   "source": [
    "#### читання з файла"
   ]
  },
  {
   "cell_type": "code",
   "execution_count": null,
   "metadata": {},
   "outputs": [],
   "source": [
    "h = open(\"./some_file.txt\", 'r')"
   ]
  },
  {
   "cell_type": "code",
   "execution_count": null,
   "metadata": {},
   "outputs": [],
   "source": [
    "# read(), readlene(), readlines()"
   ]
  },
  {
   "cell_type": "code",
   "execution_count": 6,
   "metadata": {},
   "outputs": [
    {
     "name": "stdout",
     "output_type": "stream",
     "text": [
      "['1-я строка', '2-я строка', '3-я строка', '4-я строка', '5-я строка']\n"
     ]
    }
   ],
   "source": [
    "# ЗАВДАННЯ 2\n",
    "# прочитати та вивести перші 5 записів з файла `my_file.txt`\n",
    "# ...\n",
    "\n",
    "f = open(\"./my_file.txt\", 'r', encoding='utf-8')\n",
    "\n",
    "print(f.read().rstrip('\\n').split('\\n')[:5]) # виводить записи з файла у вигляді списку без переходу на новий рядок (\\n)\n",
    "\n",
    "f.close()"
   ]
  },
  {
   "cell_type": "markdown",
   "metadata": {},
   "source": [
    "### Контекстні менеджери Python\n",
    "\n",
    "__Контекстні менеджери__ призначені для створення тимчасового середовища для виконання опрерацій над деяким об'єктом\n",
    "\n",
    "для створення такого середовища використовується оператор \n",
    "\n",
    "```with <об'єкт> as <аліас>:\n",
    "       код\n",
    "       ...\n",
    "```"
   ]
  },
  {
   "cell_type": "code",
   "execution_count": 7,
   "metadata": {},
   "outputs": [
    {
     "name": "stdout",
     "output_type": "stream",
     "text": [
      "['строка 1строка 2строка 3']\n"
     ]
    }
   ],
   "source": [
    "# прочитати файл 'some_file.txt'\n",
    "with open('./some_file.txt', encoding='utf-8') as sf:\n",
    "    file_to_list = sf.readlines()\n",
    "    \n",
    "print(file_to_list)"
   ]
  },
  {
   "cell_type": "code",
   "execution_count": 8,
   "metadata": {},
   "outputs": [
    {
     "name": "stdout",
     "output_type": "stream",
     "text": [
      "['1-я строка', '2-я строка', '3-я строка', '4-я строка', '5-я строка']\n"
     ]
    }
   ],
   "source": [
    "# ЗАВДАННЯ 3\n",
    "# виконати Завдання 2 з допомогою менеджера контекста\n",
    "# ...\n",
    "\n",
    "with open('./my_file.txt', encoding='utf-8') as mf:\n",
    "\n",
    "    # виводить записи з файла у вигляді списку без переходу на новий рядок (\\n)\n",
    "    file_to_list = mf.read().rstrip('\\n').split('\\n')[:5] # якщо файл містить дані, розділені переходом на новий рядок (\\n)\n",
    "\n",
    "print(file_to_list)"
   ]
  },
  {
   "cell_type": "code",
   "execution_count": null,
   "metadata": {},
   "outputs": [],
   "source": []
  }
 ],
 "metadata": {
  "hide_input": false,
  "kernelspec": {
   "display_name": "Python 3",
   "language": "python",
   "name": "python3"
  },
  "language_info": {
   "codemirror_mode": {
    "name": "ipython",
    "version": 3
   },
   "file_extension": ".py",
   "mimetype": "text/x-python",
   "name": "python",
   "nbconvert_exporter": "python",
   "pygments_lexer": "ipython3",
   "version": "3.6.8"
  },
  "varInspector": {
   "cols": {
    "lenName": 16,
    "lenType": 16,
    "lenVar": 40
   },
   "kernels_config": {
    "python": {
     "delete_cmd_postfix": "",
     "delete_cmd_prefix": "del ",
     "library": "var_list.py",
     "varRefreshCmd": "print(var_dic_list())"
    },
    "r": {
     "delete_cmd_postfix": ") ",
     "delete_cmd_prefix": "rm(",
     "library": "var_list.r",
     "varRefreshCmd": "cat(var_dic_list()) "
    }
   },
   "types_to_exclude": [
    "module",
    "function",
    "builtin_function_or_method",
    "instance",
    "_Feature"
   ],
   "window_display": false
  }
 },
 "nbformat": 4,
 "nbformat_minor": 2
}
