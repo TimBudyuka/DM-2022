{
 "cells": [
  {
   "cell_type": "markdown",
   "metadata": {},
   "source": [
    "#  Скрапінг-технології"
   ]
  },
  {
   "cell_type": "markdown",
   "metadata": {
    "heading_collapsed": true
   },
   "source": [
    "## ТЕОРЕТИЧНА ЧАСТИНА ТА ПРИКЛАДИ"
   ]
  },
  {
   "cell_type": "markdown",
   "metadata": {
    "hidden": true
   },
   "source": [
    "Вміст веб-сайтів(документів) - основне джерело видобутку даних.\n",
    "\n",
    "Вилучення корисних даних з веб-сторінки називається [веб-скрапінгом](https://uk.wikipedia.org/wiki/Web_scraping)\n",
    "\n",
    "_Технологія_ що покладена в основу веб-скрапінга - __HTML-парсінг__\n",
    "\n",
    "Основні парсери HTML:\n",
    "\n",
    "- [Beautiful Soup](https://en.wikipedia.org/wiki/Beautiful_Soup_(HTML_parser)) - загальноцілова бібліотека Python для парсінгу _статичних_ сайтів.\n",
    "- [Selenium](https://ru.wikipedia.org/wiki/Selenium) - бібліотека з можливістю парсінга _динамічних_ веб-сайтів.\n",
    "- [Scrapy](https://ru.wikipedia.org/wiki/Scrapy) - облегшена бібліотека для парсінгу нескладних статичних сайтів."
   ]
  },
  {
   "cell_type": "markdown",
   "metadata": {
    "hidden": true
   },
   "source": [
    "### Технологія веб-скрапінгу включає наступні етапи:\n",
    "\n",
    "1. Визначення об'єктів, які підлягають видобутку\n",
    "2. Вилучення html-сторінки з інтернет-ресурса\n",
    "3. Визначення внутрішньої структури html-документа та стратегії вилученя даних\n",
    "4. Застосування веб-скрапера для вилучення та накопичення даних в необхідні структури"
   ]
  },
  {
   "cell_type": "markdown",
   "metadata": {
    "hidden": true
   },
   "source": [
    "#### Вилучення html-сторінки з інтернет-ресурса\n",
    "\n",
    "__ПРИКЛАД:__ Отримати з сторінки [сайту розкладу КНТЕУ](https://knute.edu.ua/blog/read/?pid=1038&uk) _url-адреси_ excel-файлів розкладу бакалаврів по факультетам та надати результат у вигляді таблиці:\n",
    "\n",
    "Факультет | Курс    | Адреса\n",
    ":----------|:-------:|:-------|\n",
    "ФІТ        |    1   |https://knute.edu.ua/file/MjY=/23d2ede3a07a98bec586cf2368cec077.xls \n",
    "ФІТ        |    2   |https://knute.edu.ua/file/MjY=/b829f1bdfd628d56b3c53f5015710678.xls\n",
    "...        |  ...   | ...\n",
    "ФМТП       |   4    |https://knute.edu.ua/file/Mjc=/6714dca44d23f37ff446ac7f1c5e2147.xls\n",
    "\n"
   ]
  },
  {
   "cell_type": "markdown",
   "metadata": {
    "hidden": true
   },
   "source": [
    "Для організації взаємодії з інтернет-ресурсами по протоколу _http/https_ скористаємося бібліотека [Requests](https://www.digitalocean.com/community/tutorials/how-to-get-started-with-the-requests-library-in-python-ru)"
   ]
  },
  {
   "cell_type": "code",
   "execution_count": null,
   "metadata": {
    "hidden": true,
    "scrolled": true
   },
   "outputs": [],
   "source": [
    "# перевіримо наявність бібліотеки requests\n",
    "!pip freeze | grep requests"
   ]
  },
  {
   "cell_type": "code",
   "execution_count": null,
   "metadata": {
    "hidden": true
   },
   "outputs": [],
   "source": [
    "# якщо її немає на комп'ютері, то встановимо\n",
    "!pip install requests"
   ]
  },
  {
   "cell_type": "code",
   "execution_count": 1,
   "metadata": {
    "hidden": true
   },
   "outputs": [],
   "source": [
    "# підключення бібліотеки \n",
    "import requests"
   ]
  },
  {
   "cell_type": "code",
   "execution_count": 2,
   "metadata": {
    "hidden": true
   },
   "outputs": [
    {
     "name": "stdout",
     "output_type": "stream",
     "text": [
      "['ConnectTimeout', 'ConnectionError', 'DependencyWarning', 'FileModeWarning', 'HTTPError', 'NullHandler', 'PreparedRequest', 'ReadTimeout', 'Request', 'RequestException', 'RequestsDependencyWarning', 'Response', 'Session', 'Timeout', 'TooManyRedirects', 'URLRequired', '__author__', '__author_email__', '__build__', '__builtins__', '__cached__', '__cake__', '__copyright__', '__description__', '__doc__', '__file__', '__license__', '__loader__', '__name__', '__package__', '__path__', '__spec__', '__title__', '__url__', '__version__', '_check_cryptography', '_internal_utils', 'adapters', 'api', 'auth', 'certs', 'chardet', 'check_compatibility', 'codes', 'compat', 'cookies', 'cryptography_version', 'delete', 'exceptions', 'get', 'head', 'hooks', 'logging', 'models', 'options', 'packages', 'patch', 'post', 'put', 'pyopenssl', 'request', 'session', 'sessions', 'status_codes', 'structures', 'urllib3', 'utils', 'warnings']\n"
     ]
    }
   ],
   "source": [
    "print(dir(requests))"
   ]
  },
  {
   "cell_type": "code",
   "execution_count": 3,
   "metadata": {
    "hidden": true
   },
   "outputs": [],
   "source": [
    "# модуль `get` відповідає за зчитування ресурса в об'єкт 'response'\n",
    "requests.get?"
   ]
  },
  {
   "cell_type": "code",
   "execution_count": 4,
   "metadata": {
    "hidden": true
   },
   "outputs": [],
   "source": [
    "# отримаємо сторінку розкладів \n",
    "url = 'https://knute.edu.ua/blog/read/?pid=1038&uk'\n",
    "resp = requests.get(url)"
   ]
  },
  {
   "cell_type": "code",
   "execution_count": 5,
   "metadata": {
    "hidden": true
   },
   "outputs": [
    {
     "name": "stdout",
     "output_type": "stream",
     "text": [
      "['__attrs__', '__bool__', '__class__', '__delattr__', '__dict__', '__dir__', '__doc__', '__enter__', '__eq__', '__exit__', '__format__', '__ge__', '__getattribute__', '__getstate__', '__gt__', '__hash__', '__init__', '__init_subclass__', '__iter__', '__le__', '__lt__', '__module__', '__ne__', '__new__', '__nonzero__', '__reduce__', '__reduce_ex__', '__repr__', '__setattr__', '__setstate__', '__sizeof__', '__str__', '__subclasshook__', '__weakref__', '_content', '_content_consumed', '_next', 'apparent_encoding', 'close', 'connection', 'content', 'cookies', 'elapsed', 'encoding', 'headers', 'history', 'is_permanent_redirect', 'is_redirect', 'iter_content', 'iter_lines', 'json', 'links', 'next', 'ok', 'raise_for_status', 'raw', 'reason', 'request', 'status_code', 'text', 'url']\n"
     ]
    }
   ],
   "source": [
    "print(dir(resp))"
   ]
  },
  {
   "cell_type": "code",
   "execution_count": 6,
   "metadata": {
    "hidden": true
   },
   "outputs": [],
   "source": [
    "resp.status_code?"
   ]
  },
  {
   "cell_type": "code",
   "execution_count": 7,
   "metadata": {
    "hidden": true
   },
   "outputs": [
    {
     "data": {
      "text/plain": [
       "'<!DOCTYPE html>\\n<html ng-app=\"siteApp\">\\n  <head>\\n<meta http-equiv=\"Content-Type\" content=\"text/html; charset=utf-8\" /><meta name=\"viewport\" content=\"width=500px, initial-scale=0.7\" /><meta property=\"og:image\" content=\"/image/MTg0/8d0919156730f0275274fbf039c2a855.png\" /><meta property=\"og:title\" content=\"Ð\\xa0Ð¾Ð·ÐºÐ»Ð°Ð´ Ð·Ð°Ð½Ñ\\x8fÑ\\x82Ñ\\x8c, ÐµÐºÐ·Ð°Ð¼ÐµÐ½Ð°Ñ\\x86Ñ\\x96Ð¹Ð½Ð¾Ñ\\x97 Ñ\\x81ÐµÑ\\x81Ñ\\x96Ñ\\x97, Ð°Ñ\\x82ÐµÑ\\x81Ñ\\x82Ð°Ñ\\x86Ñ\\x96Ñ\\x97 Ð·Ð´Ð¾Ð±Ñ\\x83Ð²Ð°Ñ\\x87Ñ\\x96Ð² Ð²Ð¸Ñ\\x89Ð¾Ñ\\x97 Ð¾Ñ\\x81Ð²Ñ\\x96Ñ\\x82Ð¸\" /><meta property=\"og:description\" content=\"Ð\\x90Ð´Ñ\\x80ÐµÑ\\x81Ð¸ Ð½Ð°'"
      ]
     },
     "execution_count": 7,
     "metadata": {},
     "output_type": "execute_result"
    }
   ],
   "source": [
    "resp.text[:500]"
   ]
  },
  {
   "cell_type": "markdown",
   "metadata": {
    "hidden": true
   },
   "source": [
    "__перетворення кодування сторінки__"
   ]
  },
  {
   "cell_type": "code",
   "execution_count": 8,
   "metadata": {
    "hidden": true
   },
   "outputs": [
    {
     "data": {
      "text/plain": [
       "'ISO-8859-1'"
      ]
     },
     "execution_count": 8,
     "metadata": {},
     "output_type": "execute_result"
    }
   ],
   "source": [
    "resp.encoding"
   ]
  },
  {
   "cell_type": "code",
   "execution_count": 9,
   "metadata": {
    "hidden": true
   },
   "outputs": [
    {
     "data": {
      "text/plain": [
       "'utf-8'"
      ]
     },
     "execution_count": 9,
     "metadata": {},
     "output_type": "execute_result"
    }
   ],
   "source": [
    "resp.apparent_encoding"
   ]
  },
  {
   "cell_type": "code",
   "execution_count": 10,
   "metadata": {
    "hidden": true
   },
   "outputs": [],
   "source": [
    "resp.encoding = resp.apparent_encoding"
   ]
  },
  {
   "cell_type": "code",
   "execution_count": 11,
   "metadata": {
    "hidden": true
   },
   "outputs": [
    {
     "name": "stdout",
     "output_type": "stream",
     "text": [
      "<!DOCTYPE html>\n",
      "<html ng-app=\"siteApp\">\n",
      "  <head>\n",
      "<meta http-equiv=\"Content-Type\" content=\"text/html; charset=utf-8\" /><meta name=\"viewport\" content=\"width=500px, initial-scale=0.7\" /><meta property=\"og:image\" content=\"/image/MTg0/8d0919156730f0275274fbf039c2a855.png\" /><meta property=\"og:title\" content=\"Розклад занять, екзаменаційної сесії, атестації здобувачів вищої освіти\" /><meta property=\"og:description\" content=\"Адреси навчальних корпусів: А - вул. Кіото 19 (головний корпус) Б - вул. Кіото \n"
     ]
    }
   ],
   "source": [
    "print(resp.text[:500])"
   ]
  },
  {
   "cell_type": "code",
   "execution_count": 12,
   "metadata": {
    "hidden": true
   },
   "outputs": [],
   "source": [
    "knteu_rasp_page = resp.text"
   ]
  },
  {
   "cell_type": "markdown",
   "metadata": {
    "hidden": true
   },
   "source": [
    "#### Визначення внутрішньої структури html-документа та стратегії вилученя даних\n",
    "\n"
   ]
  },
  {
   "cell_type": "markdown",
   "metadata": {
    "hidden": true
   },
   "source": [
    "Для визначення структури веб-документа найкращим засобом є використання [Chrome DevTools](https://developer.chrome.com/docs/devtools/) або аналогічних, що поставляються з сучасними браузерами."
   ]
  },
  {
   "cell_type": "markdown",
   "metadata": {
    "hidden": true
   },
   "source": [
    "#### скрапінг html-документа за допомогою [BeautifulSoup](https://www.crummy.com/software/BeautifulSoup/bs4/doc.ru/bs4ru.html)"
   ]
  },
  {
   "cell_type": "code",
   "execution_count": null,
   "metadata": {
    "hidden": true,
    "scrolled": true
   },
   "outputs": [],
   "source": [
    "# перевіримо наявність бібліотеки BeautifulSoup\n",
    "!pip freeze | grep beautifulsoup"
   ]
  },
  {
   "cell_type": "code",
   "execution_count": null,
   "metadata": {
    "hidden": true
   },
   "outputs": [],
   "source": [
    "# якщо її немає на комп'ютері, то встановимо\n",
    "!pip install beautifulsoup4"
   ]
  },
  {
   "cell_type": "code",
   "execution_count": 14,
   "metadata": {
    "hidden": true
   },
   "outputs": [],
   "source": [
    "# імпортуєм html-парсер з псевдоніміом 'bs'\n",
    "from bs4 import BeautifulSoup as bs\n",
    "\n",
    "bs?"
   ]
  },
  {
   "cell_type": "code",
   "execution_count": 15,
   "metadata": {
    "hidden": true
   },
   "outputs": [],
   "source": [
    "# застосуємо html-парсер до завантаженої сторінки з розкладами 'knteu_rasp_page'\n",
    "parsed_rasp = bs(knteu_rasp_page, features='html.parser')"
   ]
  },
  {
   "cell_type": "code",
   "execution_count": 16,
   "metadata": {
    "hidden": true
   },
   "outputs": [
    {
     "data": {
      "text/plain": [
       "bs4.BeautifulSoup"
      ]
     },
     "execution_count": 16,
     "metadata": {},
     "output_type": "execute_result"
    }
   ],
   "source": [
    "type(parsed_rasp)"
   ]
  },
  {
   "cell_type": "code",
   "execution_count": 17,
   "metadata": {
    "hidden": true
   },
   "outputs": [
    {
     "name": "stdout",
     "output_type": "stream",
     "text": [
      "['ASCII_SPACES', 'DEFAULT_BUILDER_FEATURES', 'DEFAULT_INTERESTING_STRING_TYPES', 'NO_PARSER_SPECIFIED_WARNING', 'ROOT_TAG_NAME', '__bool__', '__call__', '__class__', '__contains__', '__copy__', '__delattr__', '__delitem__', '__dict__', '__dir__', '__doc__', '__eq__', '__format__', '__ge__', '__getattr__', '__getattribute__', '__getitem__', '__getstate__', '__gt__', '__hash__', '__init__', '__init_subclass__', '__iter__', '__le__', '__len__', '__lt__', '__module__', '__ne__', '__new__', '__reduce__', '__reduce_ex__', '__repr__', '__setattr__', '__setitem__', '__sizeof__', '__str__', '__subclasshook__', '__unicode__', '__weakref__', '_all_strings', '_decode_markup', '_feed', '_find_all', '_find_one', '_is_xml', '_lastRecursiveChild', '_last_descendant', '_linkage_fixer', '_markup_is_url', '_markup_resembles_filename', '_most_recent_element', '_namespaces', '_popToTag', '_should_pretty_print', 'append', 'attrs', 'builder', 'can_be_empty_element', 'cdata_list_attributes', 'childGenerator', 'children', 'clear', 'contains_replacement_characters', 'contents', 'currentTag', 'current_data', 'declared_html_encoding', 'decode', 'decode_contents', 'decompose', 'decomposed', 'default', 'descendants', 'element_classes', 'encode', 'encode_contents', 'endData', 'extend', 'extract', 'fetchNextSiblings', 'fetchParents', 'fetchPrevious', 'fetchPreviousSiblings', 'find', 'findAll', 'findAllNext', 'findAllPrevious', 'findChild', 'findChildren', 'findNext', 'findNextSibling', 'findNextSiblings', 'findParent', 'findParents', 'findPrevious', 'findPreviousSibling', 'findPreviousSiblings', 'find_all', 'find_all_next', 'find_all_previous', 'find_next', 'find_next_sibling', 'find_next_siblings', 'find_parent', 'find_parents', 'find_previous', 'find_previous_sibling', 'find_previous_siblings', 'format_string', 'formatter_for_name', 'get', 'getText', 'get_attribute_list', 'get_text', 'handle_data', 'handle_endtag', 'handle_starttag', 'has_attr', 'has_key', 'hidden', 'index', 'insert', 'insert_after', 'insert_before', 'interesting_string_types', 'isSelfClosing', 'is_empty_element', 'is_xml', 'known_xml', 'markup', 'name', 'namespace', 'new_string', 'new_tag', 'next', 'nextGenerator', 'nextSibling', 'nextSiblingGenerator', 'next_element', 'next_elements', 'next_sibling', 'next_siblings', 'object_was_parsed', 'open_tag_counter', 'original_encoding', 'parent', 'parentGenerator', 'parents', 'parse_only', 'parserClass', 'parser_class', 'popTag', 'prefix', 'preserve_whitespace_tag_stack', 'preserve_whitespace_tags', 'prettify', 'previous', 'previousGenerator', 'previousSibling', 'previousSiblingGenerator', 'previous_element', 'previous_elements', 'previous_sibling', 'previous_siblings', 'pushTag', 'recursiveChildGenerator', 'renderContents', 'replaceWith', 'replaceWithChildren', 'replace_with', 'replace_with_children', 'reset', 'select', 'select_one', 'setup', 'smooth', 'string', 'string_container', 'string_container_stack', 'strings', 'stripped_strings', 'tagStack', 'text', 'unwrap', 'wrap']\n"
     ]
    }
   ],
   "source": [
    "print(dir(parsed_rasp))"
   ]
  },
  {
   "cell_type": "markdown",
   "metadata": {
    "hidden": true
   },
   "source": [
    "__Ітеруємось по DOM веб-документа__"
   ]
  },
  {
   "cell_type": "code",
   "execution_count": 18,
   "metadata": {
    "hidden": true
   },
   "outputs": [],
   "source": [
    "back = parsed_rasp.find('span', text='БАКАЛАВР')"
   ]
  },
  {
   "cell_type": "code",
   "execution_count": 19,
   "metadata": {
    "hidden": true
   },
   "outputs": [
    {
     "data": {
      "text/plain": [
       "bs4.element.Tag"
      ]
     },
     "execution_count": 19,
     "metadata": {},
     "output_type": "execute_result"
    }
   ],
   "source": [
    "type(back)"
   ]
  },
  {
   "cell_type": "code",
   "execution_count": 20,
   "metadata": {
    "hidden": true,
    "scrolled": true
   },
   "outputs": [
    {
     "data": {
      "text/plain": [
       "<span style=\"color:#0000CD;\">БАКАЛАВР</span>"
      ]
     },
     "execution_count": 20,
     "metadata": {},
     "output_type": "execute_result"
    }
   ],
   "source": [
    "back"
   ]
  },
  {
   "cell_type": "code",
   "execution_count": 21,
   "metadata": {
    "hidden": true
   },
   "outputs": [],
   "source": [
    "rasp_table = back.find_parent('strong').find_parent('h3').findNextSibling('table')"
   ]
  },
  {
   "cell_type": "code",
   "execution_count": 22,
   "metadata": {
    "hidden": true,
    "scrolled": true
   },
   "outputs": [],
   "source": [
    "# в результаті виділили таблицю з розкладом\n",
    "rasp_lines = rasp_table.find_all('tr')"
   ]
  },
  {
   "cell_type": "code",
   "execution_count": 23,
   "metadata": {
    "hidden": true
   },
   "outputs": [
    {
     "data": {
      "text/plain": [
       "<tr>\n",
       "<td style=\"text-align:center\"><strong>ФІТ</strong></td>\n",
       "<td style=\"text-align:center\"><strong>ФЕМП</strong></td>\n",
       "<td style=\"text-align:center\"><strong>ФТМ</strong></td>\n",
       "<td style=\"text-align:center\"><strong>ФРГТБ</strong></td>\n",
       "<td style=\"text-align:center\"><strong>ФФО</strong></td>\n",
       "<td style=\"text-align:center\"><strong>ФМТП</strong></td>\n",
       "</tr>"
      ]
     },
     "execution_count": 23,
     "metadata": {},
     "output_type": "execute_result"
    }
   ],
   "source": [
    "rasp_lines[0]"
   ]
  },
  {
   "cell_type": "code",
   "execution_count": 24,
   "metadata": {
    "hidden": true,
    "scrolled": true
   },
   "outputs": [
    {
     "data": {
      "text/plain": [
       "[<td style=\"text-align:center\"><strong>ФІТ</strong></td>,\n",
       " <td style=\"text-align:center\"><strong>ФЕМП</strong></td>,\n",
       " <td style=\"text-align:center\"><strong>ФТМ</strong></td>,\n",
       " <td style=\"text-align:center\"><strong>ФРГТБ</strong></td>,\n",
       " <td style=\"text-align:center\"><strong>ФФО</strong></td>,\n",
       " <td style=\"text-align:center\"><strong>ФМТП</strong></td>]"
      ]
     },
     "execution_count": 24,
     "metadata": {},
     "output_type": "execute_result"
    }
   ],
   "source": [
    "# в першому елементі - 'шапка' таблиці\n",
    "head = rasp_lines[0].find_all('td')\n",
    "\n",
    "head"
   ]
  },
  {
   "cell_type": "code",
   "execution_count": 25,
   "metadata": {
    "hidden": true
   },
   "outputs": [
    {
     "data": {
      "text/plain": [
       "bs4.element.ResultSet"
      ]
     },
     "execution_count": 25,
     "metadata": {},
     "output_type": "execute_result"
    }
   ],
   "source": [
    "type(head)"
   ]
  },
  {
   "cell_type": "code",
   "execution_count": 26,
   "metadata": {
    "hidden": true
   },
   "outputs": [
    {
     "data": {
      "text/plain": [
       "bs4.element.Tag"
      ]
     },
     "execution_count": 26,
     "metadata": {},
     "output_type": "execute_result"
    }
   ],
   "source": [
    "type(head[1])"
   ]
  },
  {
   "cell_type": "code",
   "execution_count": 27,
   "metadata": {
    "hidden": true
   },
   "outputs": [
    {
     "data": {
      "text/plain": [
       "['ФІТ', 'ФЕМП', 'ФТМ', 'ФРГТБ', 'ФФО', 'ФМТП']"
      ]
     },
     "execution_count": 27,
     "metadata": {},
     "output_type": "execute_result"
    }
   ],
   "source": [
    "# вибираємо назви факультетів в список\n",
    "fac_names = [tag_td.text for tag_td in head]\n",
    "\n",
    "fac_names"
   ]
  },
  {
   "cell_type": "code",
   "execution_count": 28,
   "metadata": {
    "hidden": true
   },
   "outputs": [
    {
     "data": {
      "text/plain": [
       "[<tr>\n",
       " <td style=\"text-align:center\"><a href=\"/file/Mjc=/94cbb6b400865014c96ae8218fbf00af.xls\"><strong>1\n",
       " курс</strong></a></td>\n",
       " <td style=\"text-align:center\"><a href=\"/file/MjM=/00a149c4fc919d08c0e23dd6cf48e3c1.xls\"><strong>1\n",
       " курс</strong></a></td>\n",
       " <td style=\"text-align:center\"><a href=\"/file/MjU=/939ac6acfe68e6f975318d70bfd32a71.xls\"><strong>1\n",
       " курс </strong></a></td>\n",
       " <td style=\"text-align:center\"><a href=\"/file/MjU=/a8e8af1e391cc5095f8d72d696c5c46c.xls\"><strong>1\n",
       " курс</strong></a></td>\n",
       " <td style=\"text-align:center\"><a href=\"/file/MjQ=/06a276f7a6dbd34a2603bf23088fae15.xls\"><strong>1\n",
       " курс</strong></a></td>\n",
       " <td style=\"text-align:center\"><a href=\"/file/Mjc=/b90e05a538f0692f46cb5c675d263b4c.xls\"><strong>1\n",
       " курс</strong></a></td>\n",
       " </tr>]"
      ]
     },
     "execution_count": 28,
     "metadata": {},
     "output_type": "execute_result"
    }
   ],
   "source": [
    "# далі з 1 рядка йдуть строки с посиланнями по курсам\n",
    "rasp_lines[1:2]"
   ]
  },
  {
   "cell_type": "code",
   "execution_count": 29,
   "metadata": {
    "hidden": true,
    "scrolled": true
   },
   "outputs": [
    {
     "data": {
      "text/plain": [
       "[['/file/Mjc=/94cbb6b400865014c96ae8218fbf00af.xls', '1'],\n",
       " ['/file/MjM=/00a149c4fc919d08c0e23dd6cf48e3c1.xls', '1'],\n",
       " ['/file/MjU=/939ac6acfe68e6f975318d70bfd32a71.xls', '1'],\n",
       " ['/file/MjU=/a8e8af1e391cc5095f8d72d696c5c46c.xls', '1'],\n",
       " ['/file/MjQ=/06a276f7a6dbd34a2603bf23088fae15.xls', '1'],\n",
       " ['/file/Mjc=/b90e05a538f0692f46cb5c675d263b4c.xls', '1']]"
      ]
     },
     "execution_count": 29,
     "metadata": {},
     "output_type": "execute_result"
    }
   ],
   "source": [
    "hrefs = [[a['href'], a.text.split('\\n')[0]] for a in rasp_lines[1].find_all('a')]\n",
    "hrefs"
   ]
  },
  {
   "cell_type": "code",
   "execution_count": 30,
   "metadata": {
    "hidden": true
   },
   "outputs": [],
   "source": [
    "# вилучаємо номер курсу та адресу excel-файла в список 'result_list'\n",
    "result_list = []\n",
    "for line in rasp_lines[1:]:\n",
    "    href = [[a.text.split('\\n')[0], a['href']] for a in line.find_all('a')]\n",
    "    result_list.append(list(zip(fac_names, href)))"
   ]
  },
  {
   "cell_type": "code",
   "execution_count": 31,
   "metadata": {
    "hidden": true
   },
   "outputs": [],
   "source": [
    "# робимо остаточний список\n",
    "result = []\n",
    "for item in result_list:\n",
    "    for elem in item:\n",
    "        result.append([elem[0], elem[1][0], 'https://knute.edu.ua' + elem[1][1]])"
   ]
  },
  {
   "cell_type": "code",
   "execution_count": 32,
   "metadata": {
    "hidden": true
   },
   "outputs": [
    {
     "data": {
      "text/plain": [
       "[['ФІТ',\n",
       "  '1',\n",
       "  'https://knute.edu.ua/file/Mjc=/94cbb6b400865014c96ae8218fbf00af.xls'],\n",
       " ['ФЕМП',\n",
       "  '1',\n",
       "  'https://knute.edu.ua/file/MjM=/00a149c4fc919d08c0e23dd6cf48e3c1.xls'],\n",
       " ['ФТМ',\n",
       "  '1',\n",
       "  'https://knute.edu.ua/file/MjU=/939ac6acfe68e6f975318d70bfd32a71.xls']]"
      ]
     },
     "execution_count": 32,
     "metadata": {},
     "output_type": "execute_result"
    }
   ],
   "source": [
    "result[:3]"
   ]
  },
  {
   "cell_type": "code",
   "execution_count": 33,
   "metadata": {
    "hidden": true
   },
   "outputs": [],
   "source": [
    "import pandas as pd"
   ]
  },
  {
   "cell_type": "code",
   "execution_count": 34,
   "metadata": {
    "hidden": true
   },
   "outputs": [
    {
     "data": {
      "text/html": [
       "<div>\n",
       "<style scoped>\n",
       "    .dataframe tbody tr th:only-of-type {\n",
       "        vertical-align: middle;\n",
       "    }\n",
       "\n",
       "    .dataframe tbody tr th {\n",
       "        vertical-align: top;\n",
       "    }\n",
       "\n",
       "    .dataframe thead th {\n",
       "        text-align: right;\n",
       "    }\n",
       "</style>\n",
       "<table border=\"1\" class=\"dataframe\">\n",
       "  <thead>\n",
       "    <tr style=\"text-align: right;\">\n",
       "      <th></th>\n",
       "      <th>Факультет</th>\n",
       "      <th>Курс</th>\n",
       "      <th>URL</th>\n",
       "    </tr>\n",
       "  </thead>\n",
       "  <tbody>\n",
       "    <tr>\n",
       "      <th>0</th>\n",
       "      <td>ФІТ</td>\n",
       "      <td>1</td>\n",
       "      <td>https://knute.edu.ua/file/Mjc=/94cbb6b40086501...</td>\n",
       "    </tr>\n",
       "    <tr>\n",
       "      <th>1</th>\n",
       "      <td>ФЕМП</td>\n",
       "      <td>1</td>\n",
       "      <td>https://knute.edu.ua/file/MjM=/00a149c4fc919d0...</td>\n",
       "    </tr>\n",
       "    <tr>\n",
       "      <th>2</th>\n",
       "      <td>ФТМ</td>\n",
       "      <td>1</td>\n",
       "      <td>https://knute.edu.ua/file/MjU=/939ac6acfe68e6f...</td>\n",
       "    </tr>\n",
       "    <tr>\n",
       "      <th>3</th>\n",
       "      <td>ФРГТБ</td>\n",
       "      <td>1</td>\n",
       "      <td>https://knute.edu.ua/file/MjU=/a8e8af1e391cc50...</td>\n",
       "    </tr>\n",
       "    <tr>\n",
       "      <th>4</th>\n",
       "      <td>ФФО</td>\n",
       "      <td>1</td>\n",
       "      <td>https://knute.edu.ua/file/MjQ=/06a276f7a6dbd34...</td>\n",
       "    </tr>\n",
       "    <tr>\n",
       "      <th>5</th>\n",
       "      <td>ФМТП</td>\n",
       "      <td>1</td>\n",
       "      <td>https://knute.edu.ua/file/Mjc=/b90e05a538f0692...</td>\n",
       "    </tr>\n",
       "    <tr>\n",
       "      <th>6</th>\n",
       "      <td>ФІТ</td>\n",
       "      <td>2</td>\n",
       "      <td>https://knute.edu.ua/file/Mjc=/61a705fffcfafe3...</td>\n",
       "    </tr>\n",
       "    <tr>\n",
       "      <th>7</th>\n",
       "      <td>ФЕМП</td>\n",
       "      <td>2</td>\n",
       "      <td>https://knute.edu.ua/file/MjM=/16f88bf25a2c107...</td>\n",
       "    </tr>\n",
       "    <tr>\n",
       "      <th>8</th>\n",
       "      <td>ФТМ</td>\n",
       "      <td>2</td>\n",
       "      <td>https://knute.edu.ua/file/Mjc=/9f3f50dd0189303...</td>\n",
       "    </tr>\n",
       "    <tr>\n",
       "      <th>9</th>\n",
       "      <td>ФРГТБ</td>\n",
       "      <td>2</td>\n",
       "      <td>https://knute.edu.ua/file/MjU=/e50c5d26bf4c88c...</td>\n",
       "    </tr>\n",
       "  </tbody>\n",
       "</table>\n",
       "</div>"
      ],
      "text/plain": [
       "  Факультет Курс                                                URL\n",
       "0       ФІТ    1  https://knute.edu.ua/file/Mjc=/94cbb6b40086501...\n",
       "1      ФЕМП    1  https://knute.edu.ua/file/MjM=/00a149c4fc919d0...\n",
       "2       ФТМ    1  https://knute.edu.ua/file/MjU=/939ac6acfe68e6f...\n",
       "3     ФРГТБ    1  https://knute.edu.ua/file/MjU=/a8e8af1e391cc50...\n",
       "4       ФФО    1  https://knute.edu.ua/file/MjQ=/06a276f7a6dbd34...\n",
       "5      ФМТП    1  https://knute.edu.ua/file/Mjc=/b90e05a538f0692...\n",
       "6       ФІТ    2  https://knute.edu.ua/file/Mjc=/61a705fffcfafe3...\n",
       "7      ФЕМП    2  https://knute.edu.ua/file/MjM=/16f88bf25a2c107...\n",
       "8       ФТМ    2  https://knute.edu.ua/file/Mjc=/9f3f50dd0189303...\n",
       "9     ФРГТБ    2  https://knute.edu.ua/file/MjU=/e50c5d26bf4c88c..."
      ]
     },
     "execution_count": 34,
     "metadata": {},
     "output_type": "execute_result"
    }
   ],
   "source": [
    "# завантажимо результат в датафрейм\n",
    "df = pd.DataFrame(result, columns=['Факультет', 'Курс', 'URL'])\n",
    "df.head(10)"
   ]
  },
  {
   "cell_type": "code",
   "execution_count": 35,
   "metadata": {
    "hidden": true
   },
   "outputs": [
    {
     "data": {
      "text/plain": [
       "array(['https://knute.edu.ua/file/Mjc=/94cbb6b400865014c96ae8218fbf00af.xls',\n",
       "       'https://knute.edu.ua/file/MjM=/00a149c4fc919d08c0e23dd6cf48e3c1.xls',\n",
       "       'https://knute.edu.ua/file/MjU=/939ac6acfe68e6f975318d70bfd32a71.xls',\n",
       "       'https://knute.edu.ua/file/MjU=/a8e8af1e391cc5095f8d72d696c5c46c.xls',\n",
       "       'https://knute.edu.ua/file/MjQ=/06a276f7a6dbd34a2603bf23088fae15.xls'],\n",
       "      dtype=object)"
      ]
     },
     "execution_count": 35,
     "metadata": {},
     "output_type": "execute_result"
    }
   ],
   "source": [
    "df['URL'].values[:5]"
   ]
  },
  {
   "cell_type": "code",
   "execution_count": 36,
   "metadata": {
    "hidden": true
   },
   "outputs": [],
   "source": [
    "# відсортуєм по факультету-курсу\n",
    "df_sorted = df.sort_values(by=['Факультет', 'Курс'])"
   ]
  },
  {
   "cell_type": "code",
   "execution_count": 37,
   "metadata": {
    "hidden": true
   },
   "outputs": [
    {
     "data": {
      "text/html": [
       "<div>\n",
       "<style scoped>\n",
       "    .dataframe tbody tr th:only-of-type {\n",
       "        vertical-align: middle;\n",
       "    }\n",
       "\n",
       "    .dataframe tbody tr th {\n",
       "        vertical-align: top;\n",
       "    }\n",
       "\n",
       "    .dataframe thead th {\n",
       "        text-align: right;\n",
       "    }\n",
       "</style>\n",
       "<table border=\"1\" class=\"dataframe\">\n",
       "  <thead>\n",
       "    <tr style=\"text-align: right;\">\n",
       "      <th></th>\n",
       "      <th>Факультет</th>\n",
       "      <th>Курс</th>\n",
       "      <th>URL</th>\n",
       "    </tr>\n",
       "  </thead>\n",
       "  <tbody>\n",
       "    <tr>\n",
       "      <th>0</th>\n",
       "      <td>ФІТ</td>\n",
       "      <td>1</td>\n",
       "      <td>https://knute.edu.ua/file/Mjc=/94cbb6b40086501...</td>\n",
       "    </tr>\n",
       "    <tr>\n",
       "      <th>6</th>\n",
       "      <td>ФІТ</td>\n",
       "      <td>2</td>\n",
       "      <td>https://knute.edu.ua/file/Mjc=/61a705fffcfafe3...</td>\n",
       "    </tr>\n",
       "    <tr>\n",
       "      <th>12</th>\n",
       "      <td>ФІТ</td>\n",
       "      <td>3</td>\n",
       "      <td>https://knute.edu.ua/file/MjY=/d7c8abdd57a72bc...</td>\n",
       "    </tr>\n",
       "    <tr>\n",
       "      <th>18</th>\n",
       "      <td>ФІТ</td>\n",
       "      <td>4</td>\n",
       "      <td>https://knute.edu.ua/file/MjY=/a4b4809a83ddf4c...</td>\n",
       "    </tr>\n",
       "    <tr>\n",
       "      <th>1</th>\n",
       "      <td>ФЕМП</td>\n",
       "      <td>1</td>\n",
       "      <td>https://knute.edu.ua/file/MjM=/00a149c4fc919d0...</td>\n",
       "    </tr>\n",
       "  </tbody>\n",
       "</table>\n",
       "</div>"
      ],
      "text/plain": [
       "   Факультет Курс                                                URL\n",
       "0        ФІТ    1  https://knute.edu.ua/file/Mjc=/94cbb6b40086501...\n",
       "6        ФІТ    2  https://knute.edu.ua/file/Mjc=/61a705fffcfafe3...\n",
       "12       ФІТ    3  https://knute.edu.ua/file/MjY=/d7c8abdd57a72bc...\n",
       "18       ФІТ    4  https://knute.edu.ua/file/MjY=/a4b4809a83ddf4c...\n",
       "1       ФЕМП    1  https://knute.edu.ua/file/MjM=/00a149c4fc919d0..."
      ]
     },
     "execution_count": 37,
     "metadata": {},
     "output_type": "execute_result"
    }
   ],
   "source": [
    "df_sorted.head()"
   ]
  },
  {
   "cell_type": "code",
   "execution_count": 38,
   "metadata": {
    "hidden": true
   },
   "outputs": [
    {
     "data": {
      "text/html": [
       "<div>\n",
       "<style scoped>\n",
       "    .dataframe tbody tr th:only-of-type {\n",
       "        vertical-align: middle;\n",
       "    }\n",
       "\n",
       "    .dataframe tbody tr th {\n",
       "        vertical-align: top;\n",
       "    }\n",
       "\n",
       "    .dataframe thead th {\n",
       "        text-align: right;\n",
       "    }\n",
       "</style>\n",
       "<table border=\"1\" class=\"dataframe\">\n",
       "  <thead>\n",
       "    <tr style=\"text-align: right;\">\n",
       "      <th></th>\n",
       "      <th>Курс</th>\n",
       "      <th>URL</th>\n",
       "    </tr>\n",
       "    <tr>\n",
       "      <th>Факультет</th>\n",
       "      <th></th>\n",
       "      <th></th>\n",
       "    </tr>\n",
       "  </thead>\n",
       "  <tbody>\n",
       "    <tr>\n",
       "      <th>ФІТ</th>\n",
       "      <td>1</td>\n",
       "      <td>https://knute.edu.ua/file/Mjc=/94cbb6b40086501...</td>\n",
       "    </tr>\n",
       "    <tr>\n",
       "      <th>ФІТ</th>\n",
       "      <td>2</td>\n",
       "      <td>https://knute.edu.ua/file/Mjc=/61a705fffcfafe3...</td>\n",
       "    </tr>\n",
       "    <tr>\n",
       "      <th>ФІТ</th>\n",
       "      <td>3</td>\n",
       "      <td>https://knute.edu.ua/file/MjY=/d7c8abdd57a72bc...</td>\n",
       "    </tr>\n",
       "    <tr>\n",
       "      <th>ФІТ</th>\n",
       "      <td>4</td>\n",
       "      <td>https://knute.edu.ua/file/MjY=/a4b4809a83ddf4c...</td>\n",
       "    </tr>\n",
       "    <tr>\n",
       "      <th>ФЕМП</th>\n",
       "      <td>1</td>\n",
       "      <td>https://knute.edu.ua/file/MjM=/00a149c4fc919d0...</td>\n",
       "    </tr>\n",
       "    <tr>\n",
       "      <th>ФЕМП</th>\n",
       "      <td>2</td>\n",
       "      <td>https://knute.edu.ua/file/MjM=/16f88bf25a2c107...</td>\n",
       "    </tr>\n",
       "    <tr>\n",
       "      <th>ФЕМП</th>\n",
       "      <td>3</td>\n",
       "      <td>https://knute.edu.ua/file/MjM=/eb4d304e5e466b7...</td>\n",
       "    </tr>\n",
       "  </tbody>\n",
       "</table>\n",
       "</div>"
      ],
      "text/plain": [
       "          Курс                                                URL\n",
       "Факультет                                                        \n",
       "ФІТ          1  https://knute.edu.ua/file/Mjc=/94cbb6b40086501...\n",
       "ФІТ          2  https://knute.edu.ua/file/Mjc=/61a705fffcfafe3...\n",
       "ФІТ          3  https://knute.edu.ua/file/MjY=/d7c8abdd57a72bc...\n",
       "ФІТ          4  https://knute.edu.ua/file/MjY=/a4b4809a83ddf4c...\n",
       "ФЕМП         1  https://knute.edu.ua/file/MjM=/00a149c4fc919d0...\n",
       "ФЕМП         2  https://knute.edu.ua/file/MjM=/16f88bf25a2c107...\n",
       "ФЕМП         3  https://knute.edu.ua/file/MjM=/eb4d304e5e466b7..."
      ]
     },
     "execution_count": 38,
     "metadata": {},
     "output_type": "execute_result"
    }
   ],
   "source": [
    "df_sorted.set_index('Факультет')[:7]"
   ]
  },
  {
   "cell_type": "markdown",
   "metadata": {
    "heading_collapsed": true
   },
   "source": [
    "## ІНДИВІДУАЛЬНЕ ЗАВДАННЯ"
   ]
  },
  {
   "cell_type": "markdown",
   "metadata": {
    "hidden": true
   },
   "source": [
    "З [головної сторінки](https://knute.edu.ua/blog/read/?pid=1038&uk) сайту КНТЕУ вилучити інформацію про факультети, кафедри та посилання на відповідні сторінки та представити результат в наступному вигляді:\n",
    "\n",
    "Назва факультету __<Закріпленій за вамі факультет>__\n",
    "\n",
    "№   | Назва кафедри | URL кафедри\n",
    ":--:|:--------|:--------\n",
    "1 |  <_назва 1> | <url 1>\n",
    "2 |  <_назва 1> | <url 1>\n",
    "3 |  <_назва 1> | <url 1>\n",
    "...| ... |...\n"
   ]
  },
  {
   "cell_type": "code",
   "execution_count": 39,
   "metadata": {
    "hidden": true,
    "run_control": {
     "marked": true
    }
   },
   "outputs": [],
   "source": [
    "# імпортувати бібліотеку Requests\n",
    "import requests"
   ]
  },
  {
   "cell_type": "code",
   "execution_count": 40,
   "metadata": {
    "hidden": true,
    "run_control": {
     "marked": true
    }
   },
   "outputs": [
    {
     "name": "stdout",
     "output_type": "stream",
     "text": [
      "(1): main_page (перевірка доступу до веб-сторінки)      \n",
      "<Response [200]>\n",
      "\n",
      "(2): main_page.text (перевірка змісту веб-сторінки)      \n",
      "<!DOCTYPE html>\n",
      "<html ng-app=\"siteApp\">\n",
      "  <head>\n",
      "<meta http-equiv=\"Content-Type\" content=\"text/html; charset=utf-8\" /><meta name=\"viewport\" content=\"width=500px, initial-scale=0.7\" /><meta property=\"og:image\" content=\"/image/MTg0/8d0919156730f0275274fbf039c2a855.png\" /><meta property=\"og:title\" content=\"Ð Ð¾Ð·ÐºÐ»Ð°Ð´ Ð·Ð°Ð½ÑÑÑ, ÐµÐºÐ·Ð°Ð¼ÐµÐ½Ð°ÑÑÐ¹Ð½Ð¾Ñ ÑÐµÑÑÑ, Ð°ÑÐµÑÑÐ°ÑÑÑ Ð·Ð´Ð¾Ð±ÑÐ²Ð°ÑÑÐ² Ð²Ð¸ÑÐ¾Ñ Ð¾ÑÐ²ÑÑÐ¸\" /><meta property=\"og:description\" content=\"ÐÐ´ÑÐµÑÐ¸ Ð½Ð°\n",
      "\n",
      "(3): main_page.encoding (перевірка кодування веб-сторінки)      \n",
      "ISO-8859-1\n",
      "\n",
      "(4): main_page.apparent_encoding (виправлення кодування веб-сторінки)      \n",
      "utf-8\n",
      "\n",
      "(5): main_page.text (перевірка змісту веб-сторінки після виправлення кодування)      \n",
      "<!DOCTYPE html>\n",
      "<html ng-app=\"siteApp\">\n",
      "  <head>\n",
      "<meta http-equiv=\"Content-Type\" content=\"text/html; charset=utf-8\" /><meta name=\"viewport\" content=\"width=500px, initial-scale=0.7\" /><meta property=\"og:image\" content=\"/image/MTg0/8d0919156730f0275274fbf039c2a855.png\" /><meta property=\"og:title\" content=\"Розклад занять, екзаменаційної сесії, атестації здобувачів вищої освіти\" /><meta property=\"og:description\" content=\"Адреси навчальних корпусів: А - вул. Кіото 19 (головний корпус) Б - вул. Кіото \n",
      "\n"
     ]
    }
   ],
   "source": [
    "# зчитати головну сторінку та виправити кодування (якщо необхідно)\n",
    "main_page = requests.get(\"https://knute.edu.ua/blog/read/?pid=1038&uk\")\n",
    "\n",
    "print(f\"(1): main_page (перевірка доступу до веб-сторінки)\\\n",
    "      \\n{main_page}\", end='\\n\\n') # Виведе: <Response [200]>\n",
    "\n",
    "# вивести html-код сторінки\n",
    "print(f\"(2): main_page.text (перевірка змісту веб-сторінки)\\\n",
    "      \\n{main_page.text[:500]}\", end='\\n\\n')\n",
    "\n",
    "print(f\"(3): main_page.encoding (перевірка кодування веб-сторінки)\\\n",
    "      \\n{main_page.encoding}\", end='\\n\\n')\n",
    "\n",
    "print(f\"(4): main_page.apparent_encoding (виправлення кодування веб-сторінки)\\\n",
    "      \\n{main_page.apparent_encoding}\", end='\\n\\n')\n",
    "\n",
    "main_page.encoding = main_page.apparent_encoding\n",
    "\n",
    "print(f\"(5): main_page.text (перевірка змісту веб-сторінки після виправлення кодування)\\\n",
    "      \\n{main_page.text[:500]}\", end='\\n\\n')\n",
    "\n",
    "knteu_rasp_page = main_page.text"
   ]
  },
  {
   "cell_type": "markdown",
   "metadata": {
    "hidden": true
   },
   "source": [
    "#### за допомогою [Chrome DevTools](https://htmlacademy.ru/blog/boost/tools/chrome-devtools-1) проаналізувати структуру сторінки, визначити об'єкти що потребують вилучення та розробити стратегію скрапінга"
   ]
  },
  {
   "cell_type": "code",
   "execution_count": 41,
   "metadata": {
    "hidden": true,
    "run_control": {
     "marked": true
    }
   },
   "outputs": [],
   "source": [
    "# імпортувати html-парсер бібліотеки  BeautifulSoup\n",
    "# import bs4.BeautifulSoup as bs\n",
    "# або так\n",
    "from bs4 import BeautifulSoup as bs"
   ]
  },
  {
   "cell_type": "code",
   "execution_count": 42,
   "metadata": {
    "hidden": true,
    "run_control": {
     "marked": true
    }
   },
   "outputs": [
    {
     "name": "stdout",
     "output_type": "stream",
     "text": [
      "(1): names (список факультетів та кафедр)      \n",
      "['Факультет міжнародної торгівлі та права', 'Кафедра світової економіки', 'Кафедра міжнародного менеджменту', 'Кафедра міжнародного, цивільного та комерційного права', 'Кафедра адміністративного, фінансового та інформаційного права', 'Кафедра правового забезпечення безпеки бізнесу', 'Кафедра сучасних європейських мов', 'Кафедра філософії, соціології та політології', 'Факультет торгівлі та маркетингу', 'Кафедра торговельного підприємництва та логістики']\n",
      "\n",
      "(2): faculties (список факультетів)      \n",
      "['Факультет міжнародної торгівлі та права', 'Факультет торгівлі та маркетингу', 'Факультет економіки, менеджменту та психології', 'Факультет інформаційних технологій', 'Факультет ресторанно-готельного та туристичного бізнесу ', 'Факультет фінансів та обліку']\n",
      "\n",
      "(3): departments (список кафедр)      \n",
      "['Кафедра світової економіки', 'Кафедра міжнародного менеджменту', 'Кафедра міжнародного, цивільного та комерційного права', 'Кафедра адміністративного, фінансового та інформаційного права', 'Кафедра правового забезпечення безпеки бізнесу', 'Кафедра сучасних європейських мов', 'Кафедра філософії, соціології та політології', 'Кафедра торговельного підприємництва та логістики', 'Кафедра маркетингу', 'Кафедра товарознавства, управління безпечністю та якістю']\n",
      "\n",
      "(4): fac_dep_hrefs (<опис>)      \n",
      "[['Факультет міжнародної торгівлі та права', '/blog/read?n=fmtp&uk'], ['Кафедра світової економіки', '/blog/read?n=svitovoyi ekonomiki&uk'], ['Кафедра міжнародного менеджменту', '/blog/read?n=Department of International Economics&uk'], ['Кафедра міжнародного, цивільного та комерційного права', '/blog/read?n=ipcc-law&uk'], ['Кафедра адміністративного, фінансового та інформаційного права', '/blog/read?n=Department of Commercial Law&uk'], ['Кафедра правового забезпечення безпеки бізнесу', '/blog/read?n=Department of Law&uk'], ['Кафедра сучасних європейських мов', '/blog/read?n=Department of Modern European Languages&uk'], ['Кафедра філософії, соціології та політології', '/blog/read?n=Department filosofsmbkikh ta socialmbnikh nauk&uk'], ['Факультет торгівлі та маркетингу', '/blog/read?n=ftm&uk'], ['Кафедра торговельного підприємництва та логістики', '/blog/read?n=Department of Enterprise Trade&uk']]\n",
      "\n"
     ]
    },
    {
     "data": {
      "text/plain": [
       "{'Факультет міжнародної торгівлі та права': [['Кафедра світової економіки',\n",
       "   'https://knute.edu.ua/blog/read?n=svitovoyi ekonomiki&uk'],\n",
       "  ['Кафедра міжнародного менеджменту',\n",
       "   'https://knute.edu.ua/blog/read?n=Department of International Economics&uk'],\n",
       "  ['Кафедра міжнародного, цивільного та комерційного права',\n",
       "   'https://knute.edu.ua/blog/read?n=ipcc-law&uk'],\n",
       "  ['Кафедра адміністративного, фінансового та інформаційного права',\n",
       "   'https://knute.edu.ua/blog/read?n=Department of Commercial Law&uk'],\n",
       "  ['Кафедра правового забезпечення безпеки бізнесу',\n",
       "   'https://knute.edu.ua/blog/read?n=Department of Law&uk'],\n",
       "  ['Кафедра сучасних європейських мов',\n",
       "   'https://knute.edu.ua/blog/read?n=Department of Modern European Languages&uk'],\n",
       "  ['Кафедра філософії, соціології та політології',\n",
       "   'https://knute.edu.ua/blog/read?n=Department filosofsmbkikh ta socialmbnikh nauk&uk']],\n",
       " 'Факультет торгівлі та маркетингу': [['Кафедра торговельного підприємництва та логістики',\n",
       "   'https://knute.edu.ua/blog/read?n=Department of Enterprise Trade&uk'],\n",
       "  ['Кафедра маркетингу',\n",
       "   'https://knute.edu.ua/blog/read?n=Department of Marketing&uk'],\n",
       "  ['Кафедра товарознавства, управління безпечністю та якістю',\n",
       "   'https://knute.edu.ua/blog/read?n=Department of Commodity and examination of food&uk'],\n",
       "  ['Кафедра товарознавства та митної справи',\n",
       "   'https://knute.edu.ua/blog/read?n=Department of merchandise and expertise nonfood&uk'],\n",
       "  ['Кафедра журналістики та реклами',\n",
       "   'https://knute.edu.ua/blog/read?n=Department of Journalism and Advertising&uk'],\n",
       "  ['Кафедра іноземної філології та перекладу',\n",
       "   'https://knute.edu.ua/blog/read?n=inozemnoyi filologiyi ta perekladu&uk']],\n",
       " 'Факультет економіки, менеджменту та психології': [['Кафедра економічної теорії та конкурентної політики',\n",
       "   'https://knute.edu.ua/blog/read?n=Department of Economic Theory and Competition Policy&uk'],\n",
       "  ['Кафедра економіки та фінансів підприємства',\n",
       "   'https://knute.edu.ua/blog/read?n=Department of Economics and Finance Company&uk'],\n",
       "  ['Кафедра публічного управління та адміністрування',\n",
       "   'https://knute.edu.ua/blog/read?n=Department of Public Management and Administration&uk'],\n",
       "  ['Кафедра менеджменту',\n",
       "   'https://knute.edu.ua/blog/read?n=Department of Management&uk'],\n",
       "  ['Кафедра психології',\n",
       "   'https://knute.edu.ua/blog/read?n=Department of Psychology&uk']],\n",
       " 'Факультет інформаційних технологій': [['Кафедра інженерії програмного забезпечення та кібербезпеки',\n",
       "   'https://knute.edu.ua/blog/read?n=Department Software Engineering and Information Systems&uk'],\n",
       "  ['Кафедра цифрової економіки та системного аналізу',\n",
       "   'https://knute.edu.ua/blog/read?n=Department of Economic Cybernetics and Information Systems&uk'],\n",
       "  [\"Кафедра комп'ютерних наук та інформаційних систем\",\n",
       "   'https://knute.edu.ua/blog/read?n=informaciynikh tekhnologiy u mizhnarodniy torgivli&uk'],\n",
       "  ['Кафедра вищої та прикладної математики',\n",
       "   'https://knute.edu.ua/blog/read?n=Department of Higher and Applied Mathematics&uk']],\n",
       " 'Факультет ресторанно-готельного та туристичного бізнесу ': [['Кафедра технології і організації ресторанного господарства',\n",
       "   'https://knute.edu.ua/blog/read?n=Department of Technology and restaurants&uk'],\n",
       "  ['Кафедра готельно-ресторанного бізнесу',\n",
       "   'https://knute.edu.ua/blog/read?n=Department of Hotel and catering and tourism&uk'],\n",
       "  ['Кафедра туризму та рекреації',\n",
       "   'https://knute.edu.ua/blog/read?n=Department of tourism and recreation&uk'],\n",
       "  ['Кафедра дизайну та інжинірингу',\n",
       "   'https://knute.edu.ua/blog/read?n=Department of engineering disciplines&uk'],\n",
       "  ['Кафедра фізичної культури та спорту',\n",
       "   'https://knute.edu.ua/blog/read?n=Department of Physical Education&uk']],\n",
       " 'Факультет фінансів та обліку': [['Кафедра фінансів',\n",
       "   'https://knute.edu.ua/blog/read?n=Department of Finance&uk'],\n",
       "  ['Кафедра банківської справи',\n",
       "   'https://knute.edu.ua/blog/read?n=Department of Banking&uk'],\n",
       "  ['Кафедра обліку та оподаткування',\n",
       "   'https://knute.edu.ua/blog/read?n=Department of Accounting&uk'],\n",
       "  ['Кафедра фінансового аналізу та аудиту',\n",
       "   'https://knute.edu.ua/blog/read?n=Department of Financial Analysis and Control&uk'],\n",
       "  ['Кафедра статистики та економетрії',\n",
       "   'https://knute.edu.ua/blog/read?n=Department of Statistics and econometrics&uk']]}"
      ]
     },
     "execution_count": 42,
     "metadata": {},
     "output_type": "execute_result"
    }
   ],
   "source": [
    "# розпарсити сторінку `main_page`\n",
    "\n",
    "def make_table_dict2(fac_dep_hrefs):\n",
    "    '''функція будує словник де ключ - назва факультету,\n",
    "    значення - список: [<кафедра>, <url-кафедри>]'''\n",
    "    \n",
    "    table_dict2 = {}\n",
    "    \n",
    "    for f_d_h in fac_dep_hrefs:        \n",
    "        if \"Факультет\" in f_d_h[0]:\n",
    "            table_dict2[f_d_h[0]] = []\n",
    "            current_fac_name = f_d_h[0]\n",
    "        else:\n",
    "            table_dict2[current_fac_name].append([f_d_h[0], 'https://knute.edu.ua' + f_d_h[1]])\n",
    "    return table_dict2\n",
    "\n",
    "main_page_parsed = bs(knteu_rasp_page, features='html.parser')\n",
    "\n",
    "# вилучаємо необхідний контент\n",
    "fac_list = main_page_parsed.find_all(\"ul\", class_=\"nav\")[0] \\\n",
    "                           .find_all(\"li\", class_=\"dropdown\")[1] \\\n",
    "                           .find_all(\"a\")\n",
    "\n",
    "# вилучаємо елементи, які містять 'факультет' або 'кафедра'\n",
    "names = [fac.string for fac in fac_list if \n",
    "        \"Факультет \" in fac.string or \"Кафедра\" in fac.string]\n",
    "\n",
    "print(f\"(1): names (список факультетів та кафедр)\\\n",
    "      \\n{names[:10]}\", end='\\n\\n')\n",
    "\n",
    "# вилучаємо елементи, які містять тільки 'факультет'\n",
    "faculties = [fac_n.string for fac_n in names if \"Факультет \" in fac_n.string]\n",
    "\n",
    "print(f\"(2): faculties (список факультетів)\\\n",
    "      \\n{faculties}\", end='\\n\\n')\n",
    "\n",
    "# вилучаємо елементи, які містять тільки 'кафедра'\n",
    "departments = [dep_n.string for dep_n in names if \"Кафедра \" in dep_n.string]\n",
    "\n",
    "print(f\"(3): departments (список кафедр)\\\n",
    "      \\n{departments[:10]}\", end='\\n\\n')\n",
    "\n",
    "# вилучаємо елементи, які містять 'факультет', 'кафедру' або 'url факультету/кафедри'\n",
    "fac_dep_hrefs = [[d_h.string, d_h['href']] for d_h in fac_list if\n",
    "            \"Факультет \" in d_h.string or \"Кафедра \" in d_h.string and \"/blog/read?n=\" in d_h['href']]\n",
    "\n",
    "print(f\"(4): fac_dep_hrefs (<опис>)\\\n",
    "      \\n{fac_dep_hrefs[:10]}\", end='\\n\\n')\n",
    "\n",
    "table_dict2 = make_table_dict2(fac_dep_hrefs)\n",
    "\n",
    "table_dict2"
   ]
  },
  {
   "cell_type": "markdown",
   "metadata": {
    "hidden": true
   },
   "source": [
    "#### застосувати вибрану стратегію для вилученя назв кафедр та їх url"
   ]
  },
  {
   "cell_type": "code",
   "execution_count": 43,
   "metadata": {
    "hidden": true,
    "run_control": {
     "marked": true
    }
   },
   "outputs": [
    {
     "data": {
      "text/html": [
       "<div>\n",
       "<style scoped>\n",
       "    .dataframe tbody tr th:only-of-type {\n",
       "        vertical-align: middle;\n",
       "    }\n",
       "\n",
       "    .dataframe tbody tr th {\n",
       "        vertical-align: top;\n",
       "    }\n",
       "\n",
       "    .dataframe thead tr th {\n",
       "        text-align: left;\n",
       "    }\n",
       "</style>\n",
       "<table border=\"1\" class=\"dataframe\">\n",
       "  <thead>\n",
       "    <tr>\n",
       "      <th></th>\n",
       "      <th colspan=\"2\" halign=\"left\">Факультет міжнародної торгівлі та права</th>\n",
       "    </tr>\n",
       "    <tr>\n",
       "      <th>№</th>\n",
       "      <th>Назва кафедри</th>\n",
       "      <th>URL кафедри</th>\n",
       "    </tr>\n",
       "  </thead>\n",
       "  <tbody>\n",
       "    <tr>\n",
       "      <th>1</th>\n",
       "      <td>Кафедра світової економіки</td>\n",
       "      <td>https://knute.edu.ua/blog/read?n=svitovoyi eko...</td>\n",
       "    </tr>\n",
       "    <tr>\n",
       "      <th>2</th>\n",
       "      <td>Кафедра міжнародного менеджменту</td>\n",
       "      <td>https://knute.edu.ua/blog/read?n=Department of...</td>\n",
       "    </tr>\n",
       "    <tr>\n",
       "      <th>3</th>\n",
       "      <td>Кафедра міжнародного, цивільного та комерційно...</td>\n",
       "      <td>https://knute.edu.ua/blog/read?n=ipcc-law&amp;uk</td>\n",
       "    </tr>\n",
       "    <tr>\n",
       "      <th>4</th>\n",
       "      <td>Кафедра адміністративного, фінансового та інфо...</td>\n",
       "      <td>https://knute.edu.ua/blog/read?n=Department of...</td>\n",
       "    </tr>\n",
       "    <tr>\n",
       "      <th>5</th>\n",
       "      <td>Кафедра правового забезпечення безпеки бізнесу</td>\n",
       "      <td>https://knute.edu.ua/blog/read?n=Department of...</td>\n",
       "    </tr>\n",
       "    <tr>\n",
       "      <th>6</th>\n",
       "      <td>Кафедра сучасних європейських мов</td>\n",
       "      <td>https://knute.edu.ua/blog/read?n=Department of...</td>\n",
       "    </tr>\n",
       "    <tr>\n",
       "      <th>7</th>\n",
       "      <td>Кафедра філософії, соціології та політології</td>\n",
       "      <td>https://knute.edu.ua/blog/read?n=Department fi...</td>\n",
       "    </tr>\n",
       "  </tbody>\n",
       "</table>\n",
       "</div>"
      ],
      "text/plain": [
       "             Факультет міжнародної торгівлі та права  \\\n",
       "№                                      Назва кафедри   \n",
       "1                         Кафедра світової економіки   \n",
       "2                   Кафедра міжнародного менеджменту   \n",
       "3  Кафедра міжнародного, цивільного та комерційно...   \n",
       "4  Кафедра адміністративного, фінансового та інфо...   \n",
       "5     Кафедра правового забезпечення безпеки бізнесу   \n",
       "6                  Кафедра сучасних європейських мов   \n",
       "7       Кафедра філософії, соціології та політології   \n",
       "\n",
       "                                                      \n",
       "№                                        URL кафедри  \n",
       "1  https://knute.edu.ua/blog/read?n=svitovoyi eko...  \n",
       "2  https://knute.edu.ua/blog/read?n=Department of...  \n",
       "3       https://knute.edu.ua/blog/read?n=ipcc-law&uk  \n",
       "4  https://knute.edu.ua/blog/read?n=Department of...  \n",
       "5  https://knute.edu.ua/blog/read?n=Department of...  \n",
       "6  https://knute.edu.ua/blog/read?n=Department of...  \n",
       "7  https://knute.edu.ua/blog/read?n=Department fi...  "
      ]
     },
     "execution_count": 43,
     "metadata": {},
     "output_type": "execute_result"
    }
   ],
   "source": [
    "import pandas as pd\n",
    "\n",
    "# список для зберігання датафрейму кожного факультету\n",
    "fac_df = []\n",
    "\n",
    "# створення датафрейму для кожного факультету\n",
    "for fac in faculties:\n",
    "\n",
    "    columns = ['Назва кафедри', 'URL кафедри']\n",
    "#     print(f\"(1): columns \\\n",
    "#           \\n{columns}\", end='\\n\\n')\n",
    "    columns = list(zip([f'{fac}'] * 2, columns))\n",
    "#     print(f\"(2): columns \\\n",
    "#           \\n{columns}\", end='\\n\\n')\n",
    "    #[('<факультет>', 'Назва кафедри'), ('<факультет>', 'URL кафедри')]\n",
    "    columns = pd.MultiIndex.from_tuples(columns, names=['', '№'])\n",
    "#     print(f\"(3): columns \\\n",
    "#           \\n{columns}\", end='\\n\\n')\n",
    "    \n",
    "    fac_df += [pd.DataFrame(table_dict2[fac], index=range(1,len(table_dict2[fac])+1), columns=columns)]\n",
    "\n",
    "# вивести перший датафрейм\n",
    "fac_df[0]"
   ]
  },
  {
   "cell_type": "code",
   "execution_count": null,
   "metadata": {
    "hidden": true,
    "run_control": {
     "marked": true
    }
   },
   "outputs": [],
   "source": []
  },
  {
   "cell_type": "code",
   "execution_count": null,
   "metadata": {
    "hidden": true
   },
   "outputs": [],
   "source": []
  },
  {
   "cell_type": "code",
   "execution_count": null,
   "metadata": {
    "hidden": true
   },
   "outputs": [],
   "source": []
  },
  {
   "cell_type": "code",
   "execution_count": null,
   "metadata": {
    "hidden": true
   },
   "outputs": [],
   "source": []
  },
  {
   "cell_type": "code",
   "execution_count": null,
   "metadata": {
    "hidden": true
   },
   "outputs": [],
   "source": []
  }
 ],
 "metadata": {
  "hide_input": false,
  "kernelspec": {
   "display_name": "Python 3",
   "language": "python",
   "name": "python3"
  },
  "language_info": {
   "codemirror_mode": {
    "name": "ipython",
    "version": 3
   },
   "file_extension": ".py",
   "mimetype": "text/x-python",
   "name": "python",
   "nbconvert_exporter": "python",
   "pygments_lexer": "ipython3",
   "version": "3.6.8"
  },
  "varInspector": {
   "cols": {
    "lenName": 16,
    "lenType": 16,
    "lenVar": 40
   },
   "kernels_config": {
    "python": {
     "delete_cmd_postfix": "",
     "delete_cmd_prefix": "del ",
     "library": "var_list.py",
     "varRefreshCmd": "print(var_dic_list())"
    },
    "r": {
     "delete_cmd_postfix": ") ",
     "delete_cmd_prefix": "rm(",
     "library": "var_list.r",
     "varRefreshCmd": "cat(var_dic_list()) "
    }
   },
   "types_to_exclude": [
    "module",
    "function",
    "builtin_function_or_method",
    "instance",
    "_Feature"
   ],
   "window_display": false
  }
 },
 "nbformat": 4,
 "nbformat_minor": 2
}
